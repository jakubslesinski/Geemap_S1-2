{
 "cells": [
  {
   "cell_type": "code",
   "execution_count": 1,
   "metadata": {},
   "outputs": [],
   "source": [
    "import ee\n",
    "import geemap\n",
    "import ipywidgets as widgets\n",
    "from datetime import datetime, timedelta"
   ]
  },
  {
   "cell_type": "code",
   "execution_count": 4,
   "metadata": {},
   "outputs": [
    {
     "data": {
      "text/html": [
       "\n",
       "            <style>\n",
       "                .geemap-dark {\n",
       "                    --jp-widgets-color: white;\n",
       "                    --jp-widgets-label-color: white;\n",
       "                    --jp-ui-font-color1: white;\n",
       "                    --jp-layout-color2: #454545;\n",
       "                    background-color: #383838;\n",
       "                }\n",
       "\n",
       "                .geemap-dark .jupyter-button {\n",
       "                    --jp-layout-color3: #383838;\n",
       "                }\n",
       "\n",
       "                .geemap-colab {\n",
       "                    background-color: var(--colab-primary-surface-color, white);\n",
       "                }\n",
       "\n",
       "                .geemap-colab .jupyter-button {\n",
       "                    --jp-layout-color3: var(--colab-primary-surface-color, white);\n",
       "                }\n",
       "            </style>\n",
       "            "
      ],
      "text/plain": [
       "<IPython.core.display.HTML object>"
      ]
     },
     "metadata": {},
     "output_type": "display_data"
    },
    {
     "data": {
      "application/vnd.jupyter.widget-view+json": {
       "model_id": "50605c1e8b59451ba85a88b19fcef48e",
       "version_major": 2,
       "version_minor": 0
      },
      "text/plain": [
       "Button(description='Załaduj obrazy Sentinel-2', style=ButtonStyle())"
      ]
     },
     "metadata": {},
     "output_type": "display_data"
    },
    {
     "data": {
      "application/vnd.jupyter.widget-view+json": {
       "model_id": "ea26ed68f80045b8928a751768980c03",
       "version_major": 2,
       "version_minor": 0
      },
      "text/plain": [
       "Map(center=[48.6, 37.46], controls=(WidgetControl(options=['position', 'transparent_bg'], widget=SearchDataGUI…"
      ]
     },
     "execution_count": 4,
     "metadata": {},
     "output_type": "execute_result"
    }
   ],
   "source": [
    "ee.Initialize()\n",
    "\n",
    "Map = geemap.Map(center=[48.6, 37.46], zoom=8)\n",
    "Map.add_basemap('OpenStreetMap')\n",
    "\n",
    "# Styl KML\n",
    "kml_file = r\"C:\\Users\\slesi\\Desktop\\Russian_fortifications.kml\"\n",
    "style = {\n",
    "    'color': 'red',\n",
    "    'fillColor': 'red',\n",
    "    'opacity': 0.8,\n",
    "    'fillOpacity': 0.5\n",
    "}\n",
    "Map.add_kml(kml_file, layer_name='Fortyfikacje KML', style=style)\n",
    "\n",
    "# Parametry bufora i wizualizacji\n",
    "buffer_m = 5000\n",
    "true_color_vis = {\"min\": 0, \"max\": 3000, \"bands\": [\"B4\", \"B3\", \"B2\"]}\n",
    "years = range(2020, 2026)\n",
    "months = range(1, 13)\n",
    "\n",
    "# Maska chmur (SCL)\n",
    "def mask_cloud(image):\n",
    "    scl = image.select('SCL')\n",
    "    cloud_mask = scl.neq(3).And(scl.neq(8)).And(scl.neq(9)).And(scl.neq(10))\n",
    "    return image.updateMask(cloud_mask)\n",
    "\n",
    "# Funkcja generująca kolekcję czasową\n",
    "def create_time_series(point):\n",
    "    roi = point.buffer(buffer_m).bounds()\n",
    "    images = []\n",
    "    labels = []\n",
    "\n",
    "    for year in years:\n",
    "        for month in months:\n",
    "            start = ee.Date.fromYMD(year, month, 1)\n",
    "            end = start.advance(1, 'month')\n",
    "            img = ee.ImageCollection('COPERNICUS/S2_SR_HARMONIZED') \\\n",
    "                .filterBounds(roi) \\\n",
    "                .filterDate(start, end) \\\n",
    "                .filter(ee.Filter.lt('CLOUDY_PIXEL_PERCENTAGE', 10)) \\\n",
    "                .map(mask_cloud) \\\n",
    "                .mean() \\\n",
    "                .clip(roi) \\\n",
    "                .set('label', f\"{year}-{month:02}\")\n",
    "            images.append(img)\n",
    "            labels.append(f\"{year}-{month:02}\")\n",
    "    \n",
    "    return ee.ImageCollection.fromImages(images), labels\n",
    "\n",
    "# Przycisk i callback\n",
    "load_button = widgets.Button(description=\"Załaduj obrazy Sentinel-2\")\n",
    "\n",
    "def on_button_click(b):\n",
    "    if Map.user_roi is None:\n",
    "        print(\"⚠️ Najpierw narysuj punkt (Toolbox → Draw → Point)\")\n",
    "        return\n",
    "    \n",
    "    geom = Map.user_roi\n",
    "    point = geom.centroid()\n",
    "\n",
    "    # Wyczyść wszystkie warstwy oprócz KML + basemap\n",
    "    Map.layers = Map.layers[:2]\n",
    "\n",
    "    ic, names = create_time_series(point)\n",
    "    Map.ts_inspector(\n",
    "        left_ts=ic,\n",
    "        right_ts=ic,\n",
    "        left_names=names,\n",
    "        right_names=names,\n",
    "        left_vis=true_color_vis,\n",
    "        right_vis=true_color_vis,\n",
    "    )\n",
    "    coords = point.coordinates().getInfo()\n",
    "    Map.setCenter(coords[0], coords[1], 10)\n",
    "\n",
    "load_button.on_click(on_button_click)\n",
    "\n",
    "# Wyświetl mapę i przycisk\n",
    "display(load_button)\n",
    "Map\n"
   ]
  },
  {
   "cell_type": "code",
   "execution_count": null,
   "metadata": {},
   "outputs": [],
   "source": []
  }
 ],
 "metadata": {
  "kernelspec": {
   "display_name": "ArcGISPro",
   "language": "python",
   "name": "python3"
  },
  "language_info": {
   "file_extension": ".py",
   "mimetype": "text/x-python",
   "name": "python",
   "version": "3.11.10"
  }
 },
 "nbformat": 4,
 "nbformat_minor": 4
}
