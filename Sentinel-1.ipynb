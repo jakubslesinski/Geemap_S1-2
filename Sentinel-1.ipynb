{
 "cells": [
  {
   "cell_type": "code",
   "execution_count": 1,
   "metadata": {},
   "outputs": [],
   "source": [
    "import ee\n",
    "import geemap\n",
    "import ipywidgets as widgets\n",
    "from datetime import datetime, timedelta"
   ]
  },
  {
   "cell_type": "code",
   "execution_count": 5,
   "metadata": {},
   "outputs": [
    {
     "data": {
      "text/html": [
       "\n",
       "            <style>\n",
       "                .geemap-dark {\n",
       "                    --jp-widgets-color: white;\n",
       "                    --jp-widgets-label-color: white;\n",
       "                    --jp-ui-font-color1: white;\n",
       "                    --jp-layout-color2: #454545;\n",
       "                    background-color: #383838;\n",
       "                }\n",
       "\n",
       "                .geemap-dark .jupyter-button {\n",
       "                    --jp-layout-color3: #383838;\n",
       "                }\n",
       "\n",
       "                .geemap-colab {\n",
       "                    background-color: var(--colab-primary-surface-color, white);\n",
       "                }\n",
       "\n",
       "                .geemap-colab .jupyter-button {\n",
       "                    --jp-layout-color3: var(--colab-primary-surface-color, white);\n",
       "                }\n",
       "            </style>\n",
       "            "
      ],
      "text/plain": [
       "<IPython.core.display.HTML object>"
      ]
     },
     "metadata": {},
     "output_type": "display_data"
    },
    {
     "data": {
      "application/vnd.jupyter.widget-view+json": {
       "model_id": "f86dcbe60087455ab599c4a1ff999450",
       "version_major": 2,
       "version_minor": 0
      },
      "text/plain": [
       "Button(description='Załaduj obrazy Sentinel-1', style=ButtonStyle())"
      ]
     },
     "metadata": {},
     "output_type": "display_data"
    },
    {
     "data": {
      "application/vnd.jupyter.widget-view+json": {
       "model_id": "dd6f03f6f44748d1bfab8080141c815f",
       "version_major": 2,
       "version_minor": 0
      },
      "text/plain": [
       "Map(center=[48.6, 37.46], controls=(WidgetControl(options=['position', 'transparent_bg'], widget=SearchDataGUI…"
      ]
     },
     "execution_count": 5,
     "metadata": {},
     "output_type": "execute_result"
    }
   ],
   "source": [
    "ee.Initialize()\n",
    "\n",
    "Map = geemap.Map(center=[48.6, 37.46], zoom=8)\n",
    "Map.add_basemap('OpenStreetMap')\n",
    "\n",
    "# Styl KML\n",
    "kml_file = r\"C:\\Users\\slesi\\Desktop\\Russian_fortifications.kml\"\n",
    "style = {\n",
    "    'color': 'red',\n",
    "    'fillColor': 'red',\n",
    "    'opacity': 0.8,\n",
    "    'fillOpacity': 0.5\n",
    "}\n",
    "Map.add_kml(kml_file, layer_name='Fortyfikacje KML', style=style)\n",
    "\n",
    "# Parametry\n",
    "buffer_m = 5000\n",
    "sar_vis_params = {\n",
    "    \"min\": -20,\n",
    "    \"max\": 0,\n",
    "    \"bands\": [\"VV\", \"VH\", \"VV\"]\n",
    "}\n",
    "years = range(2020, 2026)\n",
    "months = range(1, 13)\n",
    "\n",
    "# Funkcja generująca kolekcję czasową Sentinel-1\n",
    "def create_time_series(point):\n",
    "    roi = point.buffer(buffer_m).bounds()\n",
    "    images = []\n",
    "    labels = []\n",
    "\n",
    "    for year in years:\n",
    "        for month in months:\n",
    "            start = ee.Date.fromYMD(year, month, 1)\n",
    "            end = start.advance(1, 'month')\n",
    "\n",
    "            collection = ee.ImageCollection('COPERNICUS/S1_GRD') \\\n",
    "                .filterBounds(roi) \\\n",
    "                .filterDate(start, end) \\\n",
    "                .filter(ee.Filter.eq('instrumentMode', 'IW')) \\\n",
    "                .filter(ee.Filter.eq('orbitProperties_pass', 'ASCENDING')) \\\n",
    "                .filter(ee.Filter.eq('resolution_meters', 10)) \\\n",
    "                .filter(ee.Filter.listContains('transmitterReceiverPolarisation', 'VV')) \\\n",
    "                .filter(ee.Filter.listContains('transmitterReceiverPolarisation', 'VH')) \\\n",
    "                .select(['VV', 'VH'])\n",
    "\n",
    "            image = collection.mean().clip(roi).set('label', f\"{year}-{month:02}\")\n",
    "            images.append(image)\n",
    "            labels.append(f\"{year}-{month:02}\")\n",
    "    \n",
    "    return ee.ImageCollection.fromImages(images), labels\n",
    "\n",
    "# Przycisk i callback\n",
    "load_button = widgets.Button(description=\"Załaduj obrazy Sentinel-1\")\n",
    "\n",
    "def on_button_click(b):\n",
    "    if Map.user_roi is None:\n",
    "        print(\"⚠️ Najpierw narysuj punkt (Toolbox → Draw → Point)\")\n",
    "        return\n",
    "    \n",
    "    geom = Map.user_roi\n",
    "    point = geom.centroid()\n",
    "\n",
    "    # Wyczyść wszystkie warstwy oprócz KML + basemap\n",
    "    Map.layers = Map.layers[:2]\n",
    "\n",
    "    ic, names = create_time_series(point)\n",
    "\n",
    "    Map.ts_inspector(\n",
    "        left_ts=ic,\n",
    "        right_ts=ic,\n",
    "        left_names=names,\n",
    "        right_names=names,\n",
    "        left_vis=sar_vis_params,\n",
    "        right_vis=sar_vis_params,\n",
    "    )\n",
    "\n",
    "    coords = point.coordinates().getInfo()\n",
    "    Map.setCenter(coords[0], coords[1], 10)\n",
    "\n",
    "load_button.on_click(on_button_click)\n",
    "\n",
    "# Wyświetlenie\n",
    "display(load_button)\n",
    "Map\n"
   ]
  },
  {
   "cell_type": "code",
   "execution_count": null,
   "metadata": {},
   "outputs": [],
   "source": []
  }
 ],
 "metadata": {
  "kernelspec": {
   "display_name": "ArcGISPro",
   "language": "python",
   "name": "python3"
  },
  "language_info": {
   "file_extension": ".py",
   "mimetype": "text/x-python",
   "name": "python",
   "version": "3.11.10"
  }
 },
 "nbformat": 4,
 "nbformat_minor": 4
}
